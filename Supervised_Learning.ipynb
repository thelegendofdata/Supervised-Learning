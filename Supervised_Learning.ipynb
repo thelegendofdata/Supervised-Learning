{
 "cells": [
  {
   "cell_type": "markdown",
   "metadata": {},
   "source": [
    "# Introduction"
   ]
  },
  {
   "cell_type": "markdown",
   "metadata": {},
   "source": [
    "Beta Bank is facing a concerning trend: a slow, steady loss of customers. We've realized that it's far more cost-efficient to retain existing clients than to find new ones. Therefore, our goal is to anticipate if a customer is likely to leave the bank in the near future. Using historical data on client behaviour and contract termination, we need to build a predictive model with the highest possible F1 score, aiming for at least 0.59. Furthermore, we will be measuring the AUC-ROC metric and comparing it with the F1 score to create a truly optimized model."
   ]
  },
  {
   "cell_type": "code",
   "execution_count": 1,
   "metadata": {},
   "outputs": [],
   "source": [
    "import pandas as pd\n",
    "\n",
    "from sklearn.ensemble import RandomForestClassifier, GradientBoostingClassifier\n",
    "from sklearn.metrics import accuracy_score, mean_squared_error, confusion_matrix, classification_report, roc_auc_score, f1_score\n",
    "from sklearn.preprocessing import OneHotEncoder\n",
    "from sklearn.model_selection import train_test_split, GridSearchCV, cross_val_score\n",
    "from sklearn.utils import resample"
   ]
  },
  {
   "cell_type": "markdown",
   "metadata": {},
   "source": [
    "## Examining Data & Preparing Data"
   ]
  },
  {
   "cell_type": "code",
   "execution_count": 2,
   "metadata": {},
   "outputs": [],
   "source": [
    "df = pd.read_csv('Churn.csv')"
   ]
  },
  {
   "cell_type": "code",
   "execution_count": 4,
   "metadata": {},
   "outputs": [
    {
     "data": {
      "text/html": [
       "<div>\n",
       "<style scoped>\n",
       "    .dataframe tbody tr th:only-of-type {\n",
       "        vertical-align: middle;\n",
       "    }\n",
       "\n",
       "    .dataframe tbody tr th {\n",
       "        vertical-align: top;\n",
       "    }\n",
       "\n",
       "    .dataframe thead th {\n",
       "        text-align: right;\n",
       "    }\n",
       "</style>\n",
       "<table border=\"1\" class=\"dataframe\">\n",
       "  <thead>\n",
       "    <tr style=\"text-align: right;\">\n",
       "      <th></th>\n",
       "      <th>RowNumber</th>\n",
       "      <th>CustomerId</th>\n",
       "      <th>Surname</th>\n",
       "      <th>CreditScore</th>\n",
       "      <th>Geography</th>\n",
       "      <th>Gender</th>\n",
       "      <th>Age</th>\n",
       "      <th>Tenure</th>\n",
       "      <th>Balance</th>\n",
       "      <th>NumOfProducts</th>\n",
       "      <th>HasCrCard</th>\n",
       "      <th>IsActiveMember</th>\n",
       "      <th>EstimatedSalary</th>\n",
       "      <th>Exited</th>\n",
       "    </tr>\n",
       "  </thead>\n",
       "  <tbody>\n",
       "    <tr>\n",
       "      <th>0</th>\n",
       "      <td>1</td>\n",
       "      <td>15634602</td>\n",
       "      <td>Hargrave</td>\n",
       "      <td>619</td>\n",
       "      <td>France</td>\n",
       "      <td>Female</td>\n",
       "      <td>42</td>\n",
       "      <td>2.0</td>\n",
       "      <td>0.00</td>\n",
       "      <td>1</td>\n",
       "      <td>1</td>\n",
       "      <td>1</td>\n",
       "      <td>101348.88</td>\n",
       "      <td>1</td>\n",
       "    </tr>\n",
       "    <tr>\n",
       "      <th>1</th>\n",
       "      <td>2</td>\n",
       "      <td>15647311</td>\n",
       "      <td>Hill</td>\n",
       "      <td>608</td>\n",
       "      <td>Spain</td>\n",
       "      <td>Female</td>\n",
       "      <td>41</td>\n",
       "      <td>1.0</td>\n",
       "      <td>83807.86</td>\n",
       "      <td>1</td>\n",
       "      <td>0</td>\n",
       "      <td>1</td>\n",
       "      <td>112542.58</td>\n",
       "      <td>0</td>\n",
       "    </tr>\n",
       "    <tr>\n",
       "      <th>2</th>\n",
       "      <td>3</td>\n",
       "      <td>15619304</td>\n",
       "      <td>Onio</td>\n",
       "      <td>502</td>\n",
       "      <td>France</td>\n",
       "      <td>Female</td>\n",
       "      <td>42</td>\n",
       "      <td>8.0</td>\n",
       "      <td>159660.80</td>\n",
       "      <td>3</td>\n",
       "      <td>1</td>\n",
       "      <td>0</td>\n",
       "      <td>113931.57</td>\n",
       "      <td>1</td>\n",
       "    </tr>\n",
       "    <tr>\n",
       "      <th>3</th>\n",
       "      <td>4</td>\n",
       "      <td>15701354</td>\n",
       "      <td>Boni</td>\n",
       "      <td>699</td>\n",
       "      <td>France</td>\n",
       "      <td>Female</td>\n",
       "      <td>39</td>\n",
       "      <td>1.0</td>\n",
       "      <td>0.00</td>\n",
       "      <td>2</td>\n",
       "      <td>0</td>\n",
       "      <td>0</td>\n",
       "      <td>93826.63</td>\n",
       "      <td>0</td>\n",
       "    </tr>\n",
       "    <tr>\n",
       "      <th>4</th>\n",
       "      <td>5</td>\n",
       "      <td>15737888</td>\n",
       "      <td>Mitchell</td>\n",
       "      <td>850</td>\n",
       "      <td>Spain</td>\n",
       "      <td>Female</td>\n",
       "      <td>43</td>\n",
       "      <td>2.0</td>\n",
       "      <td>125510.82</td>\n",
       "      <td>1</td>\n",
       "      <td>1</td>\n",
       "      <td>1</td>\n",
       "      <td>79084.10</td>\n",
       "      <td>0</td>\n",
       "    </tr>\n",
       "    <tr>\n",
       "      <th>5</th>\n",
       "      <td>6</td>\n",
       "      <td>15574012</td>\n",
       "      <td>Chu</td>\n",
       "      <td>645</td>\n",
       "      <td>Spain</td>\n",
       "      <td>Male</td>\n",
       "      <td>44</td>\n",
       "      <td>8.0</td>\n",
       "      <td>113755.78</td>\n",
       "      <td>2</td>\n",
       "      <td>1</td>\n",
       "      <td>0</td>\n",
       "      <td>149756.71</td>\n",
       "      <td>1</td>\n",
       "    </tr>\n",
       "    <tr>\n",
       "      <th>6</th>\n",
       "      <td>7</td>\n",
       "      <td>15592531</td>\n",
       "      <td>Bartlett</td>\n",
       "      <td>822</td>\n",
       "      <td>France</td>\n",
       "      <td>Male</td>\n",
       "      <td>50</td>\n",
       "      <td>7.0</td>\n",
       "      <td>0.00</td>\n",
       "      <td>2</td>\n",
       "      <td>1</td>\n",
       "      <td>1</td>\n",
       "      <td>10062.80</td>\n",
       "      <td>0</td>\n",
       "    </tr>\n",
       "    <tr>\n",
       "      <th>7</th>\n",
       "      <td>8</td>\n",
       "      <td>15656148</td>\n",
       "      <td>Obinna</td>\n",
       "      <td>376</td>\n",
       "      <td>Germany</td>\n",
       "      <td>Female</td>\n",
       "      <td>29</td>\n",
       "      <td>4.0</td>\n",
       "      <td>115046.74</td>\n",
       "      <td>4</td>\n",
       "      <td>1</td>\n",
       "      <td>0</td>\n",
       "      <td>119346.88</td>\n",
       "      <td>1</td>\n",
       "    </tr>\n",
       "    <tr>\n",
       "      <th>8</th>\n",
       "      <td>9</td>\n",
       "      <td>15792365</td>\n",
       "      <td>He</td>\n",
       "      <td>501</td>\n",
       "      <td>France</td>\n",
       "      <td>Male</td>\n",
       "      <td>44</td>\n",
       "      <td>4.0</td>\n",
       "      <td>142051.07</td>\n",
       "      <td>2</td>\n",
       "      <td>0</td>\n",
       "      <td>1</td>\n",
       "      <td>74940.50</td>\n",
       "      <td>0</td>\n",
       "    </tr>\n",
       "    <tr>\n",
       "      <th>9</th>\n",
       "      <td>10</td>\n",
       "      <td>15592389</td>\n",
       "      <td>H?</td>\n",
       "      <td>684</td>\n",
       "      <td>France</td>\n",
       "      <td>Male</td>\n",
       "      <td>27</td>\n",
       "      <td>2.0</td>\n",
       "      <td>134603.88</td>\n",
       "      <td>1</td>\n",
       "      <td>1</td>\n",
       "      <td>1</td>\n",
       "      <td>71725.73</td>\n",
       "      <td>0</td>\n",
       "    </tr>\n",
       "    <tr>\n",
       "      <th>10</th>\n",
       "      <td>11</td>\n",
       "      <td>15767821</td>\n",
       "      <td>Bearce</td>\n",
       "      <td>528</td>\n",
       "      <td>France</td>\n",
       "      <td>Male</td>\n",
       "      <td>31</td>\n",
       "      <td>6.0</td>\n",
       "      <td>102016.72</td>\n",
       "      <td>2</td>\n",
       "      <td>0</td>\n",
       "      <td>0</td>\n",
       "      <td>80181.12</td>\n",
       "      <td>0</td>\n",
       "    </tr>\n",
       "    <tr>\n",
       "      <th>11</th>\n",
       "      <td>12</td>\n",
       "      <td>15737173</td>\n",
       "      <td>Andrews</td>\n",
       "      <td>497</td>\n",
       "      <td>Spain</td>\n",
       "      <td>Male</td>\n",
       "      <td>24</td>\n",
       "      <td>3.0</td>\n",
       "      <td>0.00</td>\n",
       "      <td>2</td>\n",
       "      <td>1</td>\n",
       "      <td>0</td>\n",
       "      <td>76390.01</td>\n",
       "      <td>0</td>\n",
       "    </tr>\n",
       "    <tr>\n",
       "      <th>12</th>\n",
       "      <td>13</td>\n",
       "      <td>15632264</td>\n",
       "      <td>Kay</td>\n",
       "      <td>476</td>\n",
       "      <td>France</td>\n",
       "      <td>Female</td>\n",
       "      <td>34</td>\n",
       "      <td>10.0</td>\n",
       "      <td>0.00</td>\n",
       "      <td>2</td>\n",
       "      <td>1</td>\n",
       "      <td>0</td>\n",
       "      <td>26260.98</td>\n",
       "      <td>0</td>\n",
       "    </tr>\n",
       "    <tr>\n",
       "      <th>13</th>\n",
       "      <td>14</td>\n",
       "      <td>15691483</td>\n",
       "      <td>Chin</td>\n",
       "      <td>549</td>\n",
       "      <td>France</td>\n",
       "      <td>Female</td>\n",
       "      <td>25</td>\n",
       "      <td>5.0</td>\n",
       "      <td>0.00</td>\n",
       "      <td>2</td>\n",
       "      <td>0</td>\n",
       "      <td>0</td>\n",
       "      <td>190857.79</td>\n",
       "      <td>0</td>\n",
       "    </tr>\n",
       "    <tr>\n",
       "      <th>14</th>\n",
       "      <td>15</td>\n",
       "      <td>15600882</td>\n",
       "      <td>Scott</td>\n",
       "      <td>635</td>\n",
       "      <td>Spain</td>\n",
       "      <td>Female</td>\n",
       "      <td>35</td>\n",
       "      <td>7.0</td>\n",
       "      <td>0.00</td>\n",
       "      <td>2</td>\n",
       "      <td>1</td>\n",
       "      <td>1</td>\n",
       "      <td>65951.65</td>\n",
       "      <td>0</td>\n",
       "    </tr>\n",
       "    <tr>\n",
       "      <th>15</th>\n",
       "      <td>16</td>\n",
       "      <td>15643966</td>\n",
       "      <td>Goforth</td>\n",
       "      <td>616</td>\n",
       "      <td>Germany</td>\n",
       "      <td>Male</td>\n",
       "      <td>45</td>\n",
       "      <td>3.0</td>\n",
       "      <td>143129.41</td>\n",
       "      <td>2</td>\n",
       "      <td>0</td>\n",
       "      <td>1</td>\n",
       "      <td>64327.26</td>\n",
       "      <td>0</td>\n",
       "    </tr>\n",
       "    <tr>\n",
       "      <th>16</th>\n",
       "      <td>17</td>\n",
       "      <td>15737452</td>\n",
       "      <td>Romeo</td>\n",
       "      <td>653</td>\n",
       "      <td>Germany</td>\n",
       "      <td>Male</td>\n",
       "      <td>58</td>\n",
       "      <td>1.0</td>\n",
       "      <td>132602.88</td>\n",
       "      <td>1</td>\n",
       "      <td>1</td>\n",
       "      <td>0</td>\n",
       "      <td>5097.67</td>\n",
       "      <td>1</td>\n",
       "    </tr>\n",
       "    <tr>\n",
       "      <th>17</th>\n",
       "      <td>18</td>\n",
       "      <td>15788218</td>\n",
       "      <td>Henderson</td>\n",
       "      <td>549</td>\n",
       "      <td>Spain</td>\n",
       "      <td>Female</td>\n",
       "      <td>24</td>\n",
       "      <td>9.0</td>\n",
       "      <td>0.00</td>\n",
       "      <td>2</td>\n",
       "      <td>1</td>\n",
       "      <td>1</td>\n",
       "      <td>14406.41</td>\n",
       "      <td>0</td>\n",
       "    </tr>\n",
       "    <tr>\n",
       "      <th>18</th>\n",
       "      <td>19</td>\n",
       "      <td>15661507</td>\n",
       "      <td>Muldrow</td>\n",
       "      <td>587</td>\n",
       "      <td>Spain</td>\n",
       "      <td>Male</td>\n",
       "      <td>45</td>\n",
       "      <td>6.0</td>\n",
       "      <td>0.00</td>\n",
       "      <td>1</td>\n",
       "      <td>0</td>\n",
       "      <td>0</td>\n",
       "      <td>158684.81</td>\n",
       "      <td>0</td>\n",
       "    </tr>\n",
       "    <tr>\n",
       "      <th>19</th>\n",
       "      <td>20</td>\n",
       "      <td>15568982</td>\n",
       "      <td>Hao</td>\n",
       "      <td>726</td>\n",
       "      <td>France</td>\n",
       "      <td>Female</td>\n",
       "      <td>24</td>\n",
       "      <td>6.0</td>\n",
       "      <td>0.00</td>\n",
       "      <td>2</td>\n",
       "      <td>1</td>\n",
       "      <td>1</td>\n",
       "      <td>54724.03</td>\n",
       "      <td>0</td>\n",
       "    </tr>\n",
       "  </tbody>\n",
       "</table>\n",
       "</div>"
      ],
      "text/plain": [
       "    RowNumber  CustomerId    Surname  CreditScore Geography  Gender  Age  \\\n",
       "0           1    15634602   Hargrave          619    France  Female   42   \n",
       "1           2    15647311       Hill          608     Spain  Female   41   \n",
       "2           3    15619304       Onio          502    France  Female   42   \n",
       "3           4    15701354       Boni          699    France  Female   39   \n",
       "4           5    15737888   Mitchell          850     Spain  Female   43   \n",
       "5           6    15574012        Chu          645     Spain    Male   44   \n",
       "6           7    15592531   Bartlett          822    France    Male   50   \n",
       "7           8    15656148     Obinna          376   Germany  Female   29   \n",
       "8           9    15792365         He          501    France    Male   44   \n",
       "9          10    15592389         H?          684    France    Male   27   \n",
       "10         11    15767821     Bearce          528    France    Male   31   \n",
       "11         12    15737173    Andrews          497     Spain    Male   24   \n",
       "12         13    15632264        Kay          476    France  Female   34   \n",
       "13         14    15691483       Chin          549    France  Female   25   \n",
       "14         15    15600882      Scott          635     Spain  Female   35   \n",
       "15         16    15643966    Goforth          616   Germany    Male   45   \n",
       "16         17    15737452      Romeo          653   Germany    Male   58   \n",
       "17         18    15788218  Henderson          549     Spain  Female   24   \n",
       "18         19    15661507    Muldrow          587     Spain    Male   45   \n",
       "19         20    15568982        Hao          726    France  Female   24   \n",
       "\n",
       "    Tenure    Balance  NumOfProducts  HasCrCard  IsActiveMember  \\\n",
       "0      2.0       0.00              1          1               1   \n",
       "1      1.0   83807.86              1          0               1   \n",
       "2      8.0  159660.80              3          1               0   \n",
       "3      1.0       0.00              2          0               0   \n",
       "4      2.0  125510.82              1          1               1   \n",
       "5      8.0  113755.78              2          1               0   \n",
       "6      7.0       0.00              2          1               1   \n",
       "7      4.0  115046.74              4          1               0   \n",
       "8      4.0  142051.07              2          0               1   \n",
       "9      2.0  134603.88              1          1               1   \n",
       "10     6.0  102016.72              2          0               0   \n",
       "11     3.0       0.00              2          1               0   \n",
       "12    10.0       0.00              2          1               0   \n",
       "13     5.0       0.00              2          0               0   \n",
       "14     7.0       0.00              2          1               1   \n",
       "15     3.0  143129.41              2          0               1   \n",
       "16     1.0  132602.88              1          1               0   \n",
       "17     9.0       0.00              2          1               1   \n",
       "18     6.0       0.00              1          0               0   \n",
       "19     6.0       0.00              2          1               1   \n",
       "\n",
       "    EstimatedSalary  Exited  \n",
       "0         101348.88       1  \n",
       "1         112542.58       0  \n",
       "2         113931.57       1  \n",
       "3          93826.63       0  \n",
       "4          79084.10       0  \n",
       "5         149756.71       1  \n",
       "6          10062.80       0  \n",
       "7         119346.88       1  \n",
       "8          74940.50       0  \n",
       "9          71725.73       0  \n",
       "10         80181.12       0  \n",
       "11         76390.01       0  \n",
       "12         26260.98       0  \n",
       "13        190857.79       0  \n",
       "14         65951.65       0  \n",
       "15         64327.26       0  \n",
       "16          5097.67       1  \n",
       "17         14406.41       0  \n",
       "18        158684.81       0  \n",
       "19         54724.03       0  "
      ]
     },
     "execution_count": 4,
     "metadata": {},
     "output_type": "execute_result"
    }
   ],
   "source": [
    "df.head(20)"
   ]
  },
  {
   "cell_type": "code",
   "execution_count": 5,
   "metadata": {},
   "outputs": [
    {
     "name": "stdout",
     "output_type": "stream",
     "text": [
      "<class 'pandas.core.frame.DataFrame'>\n",
      "RangeIndex: 10000 entries, 0 to 9999\n",
      "Data columns (total 14 columns):\n",
      " #   Column           Non-Null Count  Dtype  \n",
      "---  ------           --------------  -----  \n",
      " 0   RowNumber        10000 non-null  int64  \n",
      " 1   CustomerId       10000 non-null  int64  \n",
      " 2   Surname          10000 non-null  object \n",
      " 3   CreditScore      10000 non-null  int64  \n",
      " 4   Geography        10000 non-null  object \n",
      " 5   Gender           10000 non-null  object \n",
      " 6   Age              10000 non-null  int64  \n",
      " 7   Tenure           9091 non-null   float64\n",
      " 8   Balance          10000 non-null  float64\n",
      " 9   NumOfProducts    10000 non-null  int64  \n",
      " 10  HasCrCard        10000 non-null  int64  \n",
      " 11  IsActiveMember   10000 non-null  int64  \n",
      " 12  EstimatedSalary  10000 non-null  float64\n",
      " 13  Exited           10000 non-null  int64  \n",
      "dtypes: float64(3), int64(8), object(3)\n",
      "memory usage: 1.1+ MB\n"
     ]
    }
   ],
   "source": [
    "df.info()"
   ]
  },
  {
   "cell_type": "markdown",
   "metadata": {},
   "source": [
    "**Here, I took a quick first look at the data. Noticing that a few of the columns had floats as numerical values where I wanted ints**"
   ]
  },
  {
   "cell_type": "code",
   "execution_count": 24,
   "metadata": {},
   "outputs": [
    {
     "data": {
      "text/plain": [
       "RowNumber            0\n",
       "CustomerId           0\n",
       "Surname              0\n",
       "CreditScore          0\n",
       "Geography            0\n",
       "Gender               0\n",
       "Age                  0\n",
       "Tenure             909\n",
       "Balance              0\n",
       "NumOfProducts        0\n",
       "HasCrCard            0\n",
       "IsActiveMember       0\n",
       "EstimatedSalary      0\n",
       "Exited               0\n",
       "dtype: int64"
      ]
     },
     "execution_count": 24,
     "metadata": {},
     "output_type": "execute_result"
    }
   ],
   "source": [
    "df.isnull().sum()"
   ]
  },
  {
   "cell_type": "code",
   "execution_count": 25,
   "metadata": {},
   "outputs": [],
   "source": [
    "df.fillna(0,inplace=True)"
   ]
  },
  {
   "cell_type": "markdown",
   "metadata": {},
   "source": [
    "**Here I checked for an rectified any null values in the data**"
   ]
  },
  {
   "cell_type": "code",
   "execution_count": 26,
   "metadata": {},
   "outputs": [],
   "source": [
    "df['Tenure'] = df['Tenure'].astype(int)\n",
    "df['Balance'] = df['Balance'].astype(int)\n",
    "df['EstimatedSalary'] = df['EstimatedSalary'].astype(int)"
   ]
  },
  {
   "cell_type": "code",
   "execution_count": 27,
   "metadata": {},
   "outputs": [],
   "source": [
    "df['Surname'] = df['Surname'].astype(str)\n",
    "df['Geography'] = df['Geography'].astype(str)\n",
    "df['Gender'] = df['Gender'].astype(str)"
   ]
  },
  {
   "cell_type": "markdown",
   "metadata": {},
   "source": [
    "**Finally changing the floats to ints now that I know the data is cleared of any nulls values**"
   ]
  },
  {
   "cell_type": "code",
   "execution_count": 8,
   "metadata": {
    "scrolled": true
   },
   "outputs": [
    {
     "data": {
      "text/html": [
       "<div>\n",
       "<style scoped>\n",
       "    .dataframe tbody tr th:only-of-type {\n",
       "        vertical-align: middle;\n",
       "    }\n",
       "\n",
       "    .dataframe tbody tr th {\n",
       "        vertical-align: top;\n",
       "    }\n",
       "\n",
       "    .dataframe thead th {\n",
       "        text-align: right;\n",
       "    }\n",
       "</style>\n",
       "<table border=\"1\" class=\"dataframe\">\n",
       "  <thead>\n",
       "    <tr style=\"text-align: right;\">\n",
       "      <th></th>\n",
       "      <th>RowNumber</th>\n",
       "      <th>CustomerId</th>\n",
       "      <th>Surname</th>\n",
       "      <th>CreditScore</th>\n",
       "      <th>Geography</th>\n",
       "      <th>Gender</th>\n",
       "      <th>Age</th>\n",
       "      <th>Tenure</th>\n",
       "      <th>Balance</th>\n",
       "      <th>NumOfProducts</th>\n",
       "      <th>HasCrCard</th>\n",
       "      <th>IsActiveMember</th>\n",
       "      <th>EstimatedSalary</th>\n",
       "      <th>Exited</th>\n",
       "    </tr>\n",
       "  </thead>\n",
       "  <tbody>\n",
       "    <tr>\n",
       "      <th>0</th>\n",
       "      <td>1</td>\n",
       "      <td>15634602</td>\n",
       "      <td>Hargrave</td>\n",
       "      <td>619</td>\n",
       "      <td>France</td>\n",
       "      <td>Female</td>\n",
       "      <td>42</td>\n",
       "      <td>2</td>\n",
       "      <td>0</td>\n",
       "      <td>1</td>\n",
       "      <td>1</td>\n",
       "      <td>1</td>\n",
       "      <td>101348</td>\n",
       "      <td>1</td>\n",
       "    </tr>\n",
       "    <tr>\n",
       "      <th>1</th>\n",
       "      <td>2</td>\n",
       "      <td>15647311</td>\n",
       "      <td>Hill</td>\n",
       "      <td>608</td>\n",
       "      <td>Spain</td>\n",
       "      <td>Female</td>\n",
       "      <td>41</td>\n",
       "      <td>1</td>\n",
       "      <td>83807</td>\n",
       "      <td>1</td>\n",
       "      <td>0</td>\n",
       "      <td>1</td>\n",
       "      <td>112542</td>\n",
       "      <td>0</td>\n",
       "    </tr>\n",
       "    <tr>\n",
       "      <th>2</th>\n",
       "      <td>3</td>\n",
       "      <td>15619304</td>\n",
       "      <td>Onio</td>\n",
       "      <td>502</td>\n",
       "      <td>France</td>\n",
       "      <td>Female</td>\n",
       "      <td>42</td>\n",
       "      <td>8</td>\n",
       "      <td>159660</td>\n",
       "      <td>3</td>\n",
       "      <td>1</td>\n",
       "      <td>0</td>\n",
       "      <td>113931</td>\n",
       "      <td>1</td>\n",
       "    </tr>\n",
       "    <tr>\n",
       "      <th>3</th>\n",
       "      <td>4</td>\n",
       "      <td>15701354</td>\n",
       "      <td>Boni</td>\n",
       "      <td>699</td>\n",
       "      <td>France</td>\n",
       "      <td>Female</td>\n",
       "      <td>39</td>\n",
       "      <td>1</td>\n",
       "      <td>0</td>\n",
       "      <td>2</td>\n",
       "      <td>0</td>\n",
       "      <td>0</td>\n",
       "      <td>93826</td>\n",
       "      <td>0</td>\n",
       "    </tr>\n",
       "    <tr>\n",
       "      <th>4</th>\n",
       "      <td>5</td>\n",
       "      <td>15737888</td>\n",
       "      <td>Mitchell</td>\n",
       "      <td>850</td>\n",
       "      <td>Spain</td>\n",
       "      <td>Female</td>\n",
       "      <td>43</td>\n",
       "      <td>2</td>\n",
       "      <td>125510</td>\n",
       "      <td>1</td>\n",
       "      <td>1</td>\n",
       "      <td>1</td>\n",
       "      <td>79084</td>\n",
       "      <td>0</td>\n",
       "    </tr>\n",
       "    <tr>\n",
       "      <th>5</th>\n",
       "      <td>6</td>\n",
       "      <td>15574012</td>\n",
       "      <td>Chu</td>\n",
       "      <td>645</td>\n",
       "      <td>Spain</td>\n",
       "      <td>Male</td>\n",
       "      <td>44</td>\n",
       "      <td>8</td>\n",
       "      <td>113755</td>\n",
       "      <td>2</td>\n",
       "      <td>1</td>\n",
       "      <td>0</td>\n",
       "      <td>149756</td>\n",
       "      <td>1</td>\n",
       "    </tr>\n",
       "    <tr>\n",
       "      <th>6</th>\n",
       "      <td>7</td>\n",
       "      <td>15592531</td>\n",
       "      <td>Bartlett</td>\n",
       "      <td>822</td>\n",
       "      <td>France</td>\n",
       "      <td>Male</td>\n",
       "      <td>50</td>\n",
       "      <td>7</td>\n",
       "      <td>0</td>\n",
       "      <td>2</td>\n",
       "      <td>1</td>\n",
       "      <td>1</td>\n",
       "      <td>10062</td>\n",
       "      <td>0</td>\n",
       "    </tr>\n",
       "    <tr>\n",
       "      <th>7</th>\n",
       "      <td>8</td>\n",
       "      <td>15656148</td>\n",
       "      <td>Obinna</td>\n",
       "      <td>376</td>\n",
       "      <td>Germany</td>\n",
       "      <td>Female</td>\n",
       "      <td>29</td>\n",
       "      <td>4</td>\n",
       "      <td>115046</td>\n",
       "      <td>4</td>\n",
       "      <td>1</td>\n",
       "      <td>0</td>\n",
       "      <td>119346</td>\n",
       "      <td>1</td>\n",
       "    </tr>\n",
       "    <tr>\n",
       "      <th>8</th>\n",
       "      <td>9</td>\n",
       "      <td>15792365</td>\n",
       "      <td>He</td>\n",
       "      <td>501</td>\n",
       "      <td>France</td>\n",
       "      <td>Male</td>\n",
       "      <td>44</td>\n",
       "      <td>4</td>\n",
       "      <td>142051</td>\n",
       "      <td>2</td>\n",
       "      <td>0</td>\n",
       "      <td>1</td>\n",
       "      <td>74940</td>\n",
       "      <td>0</td>\n",
       "    </tr>\n",
       "    <tr>\n",
       "      <th>9</th>\n",
       "      <td>10</td>\n",
       "      <td>15592389</td>\n",
       "      <td>H?</td>\n",
       "      <td>684</td>\n",
       "      <td>France</td>\n",
       "      <td>Male</td>\n",
       "      <td>27</td>\n",
       "      <td>2</td>\n",
       "      <td>134603</td>\n",
       "      <td>1</td>\n",
       "      <td>1</td>\n",
       "      <td>1</td>\n",
       "      <td>71725</td>\n",
       "      <td>0</td>\n",
       "    </tr>\n",
       "    <tr>\n",
       "      <th>10</th>\n",
       "      <td>11</td>\n",
       "      <td>15767821</td>\n",
       "      <td>Bearce</td>\n",
       "      <td>528</td>\n",
       "      <td>France</td>\n",
       "      <td>Male</td>\n",
       "      <td>31</td>\n",
       "      <td>6</td>\n",
       "      <td>102016</td>\n",
       "      <td>2</td>\n",
       "      <td>0</td>\n",
       "      <td>0</td>\n",
       "      <td>80181</td>\n",
       "      <td>0</td>\n",
       "    </tr>\n",
       "    <tr>\n",
       "      <th>11</th>\n",
       "      <td>12</td>\n",
       "      <td>15737173</td>\n",
       "      <td>Andrews</td>\n",
       "      <td>497</td>\n",
       "      <td>Spain</td>\n",
       "      <td>Male</td>\n",
       "      <td>24</td>\n",
       "      <td>3</td>\n",
       "      <td>0</td>\n",
       "      <td>2</td>\n",
       "      <td>1</td>\n",
       "      <td>0</td>\n",
       "      <td>76390</td>\n",
       "      <td>0</td>\n",
       "    </tr>\n",
       "    <tr>\n",
       "      <th>12</th>\n",
       "      <td>13</td>\n",
       "      <td>15632264</td>\n",
       "      <td>Kay</td>\n",
       "      <td>476</td>\n",
       "      <td>France</td>\n",
       "      <td>Female</td>\n",
       "      <td>34</td>\n",
       "      <td>10</td>\n",
       "      <td>0</td>\n",
       "      <td>2</td>\n",
       "      <td>1</td>\n",
       "      <td>0</td>\n",
       "      <td>26260</td>\n",
       "      <td>0</td>\n",
       "    </tr>\n",
       "    <tr>\n",
       "      <th>13</th>\n",
       "      <td>14</td>\n",
       "      <td>15691483</td>\n",
       "      <td>Chin</td>\n",
       "      <td>549</td>\n",
       "      <td>France</td>\n",
       "      <td>Female</td>\n",
       "      <td>25</td>\n",
       "      <td>5</td>\n",
       "      <td>0</td>\n",
       "      <td>2</td>\n",
       "      <td>0</td>\n",
       "      <td>0</td>\n",
       "      <td>190857</td>\n",
       "      <td>0</td>\n",
       "    </tr>\n",
       "    <tr>\n",
       "      <th>14</th>\n",
       "      <td>15</td>\n",
       "      <td>15600882</td>\n",
       "      <td>Scott</td>\n",
       "      <td>635</td>\n",
       "      <td>Spain</td>\n",
       "      <td>Female</td>\n",
       "      <td>35</td>\n",
       "      <td>7</td>\n",
       "      <td>0</td>\n",
       "      <td>2</td>\n",
       "      <td>1</td>\n",
       "      <td>1</td>\n",
       "      <td>65951</td>\n",
       "      <td>0</td>\n",
       "    </tr>\n",
       "    <tr>\n",
       "      <th>15</th>\n",
       "      <td>16</td>\n",
       "      <td>15643966</td>\n",
       "      <td>Goforth</td>\n",
       "      <td>616</td>\n",
       "      <td>Germany</td>\n",
       "      <td>Male</td>\n",
       "      <td>45</td>\n",
       "      <td>3</td>\n",
       "      <td>143129</td>\n",
       "      <td>2</td>\n",
       "      <td>0</td>\n",
       "      <td>1</td>\n",
       "      <td>64327</td>\n",
       "      <td>0</td>\n",
       "    </tr>\n",
       "    <tr>\n",
       "      <th>16</th>\n",
       "      <td>17</td>\n",
       "      <td>15737452</td>\n",
       "      <td>Romeo</td>\n",
       "      <td>653</td>\n",
       "      <td>Germany</td>\n",
       "      <td>Male</td>\n",
       "      <td>58</td>\n",
       "      <td>1</td>\n",
       "      <td>132602</td>\n",
       "      <td>1</td>\n",
       "      <td>1</td>\n",
       "      <td>0</td>\n",
       "      <td>5097</td>\n",
       "      <td>1</td>\n",
       "    </tr>\n",
       "    <tr>\n",
       "      <th>17</th>\n",
       "      <td>18</td>\n",
       "      <td>15788218</td>\n",
       "      <td>Henderson</td>\n",
       "      <td>549</td>\n",
       "      <td>Spain</td>\n",
       "      <td>Female</td>\n",
       "      <td>24</td>\n",
       "      <td>9</td>\n",
       "      <td>0</td>\n",
       "      <td>2</td>\n",
       "      <td>1</td>\n",
       "      <td>1</td>\n",
       "      <td>14406</td>\n",
       "      <td>0</td>\n",
       "    </tr>\n",
       "    <tr>\n",
       "      <th>18</th>\n",
       "      <td>19</td>\n",
       "      <td>15661507</td>\n",
       "      <td>Muldrow</td>\n",
       "      <td>587</td>\n",
       "      <td>Spain</td>\n",
       "      <td>Male</td>\n",
       "      <td>45</td>\n",
       "      <td>6</td>\n",
       "      <td>0</td>\n",
       "      <td>1</td>\n",
       "      <td>0</td>\n",
       "      <td>0</td>\n",
       "      <td>158684</td>\n",
       "      <td>0</td>\n",
       "    </tr>\n",
       "    <tr>\n",
       "      <th>19</th>\n",
       "      <td>20</td>\n",
       "      <td>15568982</td>\n",
       "      <td>Hao</td>\n",
       "      <td>726</td>\n",
       "      <td>France</td>\n",
       "      <td>Female</td>\n",
       "      <td>24</td>\n",
       "      <td>6</td>\n",
       "      <td>0</td>\n",
       "      <td>2</td>\n",
       "      <td>1</td>\n",
       "      <td>1</td>\n",
       "      <td>54724</td>\n",
       "      <td>0</td>\n",
       "    </tr>\n",
       "  </tbody>\n",
       "</table>\n",
       "</div>"
      ],
      "text/plain": [
       "    RowNumber  CustomerId    Surname  CreditScore Geography  Gender  Age  \\\n",
       "0           1    15634602   Hargrave          619    France  Female   42   \n",
       "1           2    15647311       Hill          608     Spain  Female   41   \n",
       "2           3    15619304       Onio          502    France  Female   42   \n",
       "3           4    15701354       Boni          699    France  Female   39   \n",
       "4           5    15737888   Mitchell          850     Spain  Female   43   \n",
       "5           6    15574012        Chu          645     Spain    Male   44   \n",
       "6           7    15592531   Bartlett          822    France    Male   50   \n",
       "7           8    15656148     Obinna          376   Germany  Female   29   \n",
       "8           9    15792365         He          501    France    Male   44   \n",
       "9          10    15592389         H?          684    France    Male   27   \n",
       "10         11    15767821     Bearce          528    France    Male   31   \n",
       "11         12    15737173    Andrews          497     Spain    Male   24   \n",
       "12         13    15632264        Kay          476    France  Female   34   \n",
       "13         14    15691483       Chin          549    France  Female   25   \n",
       "14         15    15600882      Scott          635     Spain  Female   35   \n",
       "15         16    15643966    Goforth          616   Germany    Male   45   \n",
       "16         17    15737452      Romeo          653   Germany    Male   58   \n",
       "17         18    15788218  Henderson          549     Spain  Female   24   \n",
       "18         19    15661507    Muldrow          587     Spain    Male   45   \n",
       "19         20    15568982        Hao          726    France  Female   24   \n",
       "\n",
       "    Tenure  Balance  NumOfProducts  HasCrCard  IsActiveMember  \\\n",
       "0        2        0              1          1               1   \n",
       "1        1    83807              1          0               1   \n",
       "2        8   159660              3          1               0   \n",
       "3        1        0              2          0               0   \n",
       "4        2   125510              1          1               1   \n",
       "5        8   113755              2          1               0   \n",
       "6        7        0              2          1               1   \n",
       "7        4   115046              4          1               0   \n",
       "8        4   142051              2          0               1   \n",
       "9        2   134603              1          1               1   \n",
       "10       6   102016              2          0               0   \n",
       "11       3        0              2          1               0   \n",
       "12      10        0              2          1               0   \n",
       "13       5        0              2          0               0   \n",
       "14       7        0              2          1               1   \n",
       "15       3   143129              2          0               1   \n",
       "16       1   132602              1          1               0   \n",
       "17       9        0              2          1               1   \n",
       "18       6        0              1          0               0   \n",
       "19       6        0              2          1               1   \n",
       "\n",
       "    EstimatedSalary  Exited  \n",
       "0            101348       1  \n",
       "1            112542       0  \n",
       "2            113931       1  \n",
       "3             93826       0  \n",
       "4             79084       0  \n",
       "5            149756       1  \n",
       "6             10062       0  \n",
       "7            119346       1  \n",
       "8             74940       0  \n",
       "9             71725       0  \n",
       "10            80181       0  \n",
       "11            76390       0  \n",
       "12            26260       0  \n",
       "13           190857       0  \n",
       "14            65951       0  \n",
       "15            64327       0  \n",
       "16             5097       1  \n",
       "17            14406       0  \n",
       "18           158684       0  \n",
       "19            54724       0  "
      ]
     },
     "execution_count": 8,
     "metadata": {},
     "output_type": "execute_result"
    }
   ],
   "source": [
    "df.head(20)"
   ]
  },
  {
   "cell_type": "markdown",
   "metadata": {},
   "source": [
    "Thankfully, this data didn't have too many things that needed correction."
   ]
  },
  {
   "cell_type": "markdown",
   "metadata": {},
   "source": [
    "--- "
   ]
  },
  {
   "cell_type": "markdown",
   "metadata": {},
   "source": [
    "## Examining Class Balances & Preliminary Training"
   ]
  },
  {
   "cell_type": "code",
   "execution_count": 28,
   "metadata": {},
   "outputs": [
    {
     "data": {
      "text/plain": [
       "0    7963\n",
       "1    2037\n",
       "Name: Exited, dtype: int64"
      ]
     },
     "execution_count": 28,
     "metadata": {},
     "output_type": "execute_result"
    }
   ],
   "source": [
    "df['Exited'].value_counts()"
   ]
  },
  {
   "cell_type": "code",
   "execution_count": 29,
   "metadata": {},
   "outputs": [
    {
     "name": "stdout",
     "output_type": "stream",
     "text": [
      "[[1538   69]\n",
      " [ 203  190]]\n",
      "              precision    recall  f1-score   support\n",
      "\n",
      "           0       0.88      0.96      0.92      1607\n",
      "           1       0.73      0.48      0.58       393\n",
      "\n",
      "    accuracy                           0.86      2000\n",
      "   macro avg       0.81      0.72      0.75      2000\n",
      "weighted avg       0.85      0.86      0.85      2000\n",
      "\n"
     ]
    }
   ],
   "source": [
    "# Split the data into features and target\n",
    "features = df.drop(['RowNumber', 'CustomerId', 'Surname', 'Exited'], axis=1)\n",
    "target = df['Exited']\n",
    "\n",
    "# One-hot encode categorical features\n",
    "categorical_features = ['Geography', 'Gender']  # Add other categorical features if any\n",
    "encoder = OneHotEncoder(drop='first', sparse=False)\n",
    "encoded_features = pd.DataFrame(encoder.fit_transform(features[categorical_features]), columns=encoder.get_feature_names(categorical_features))\n",
    "\n",
    "# Drop original categorical features and concatenate encoded features\n",
    "features = features.drop(categorical_features, axis=1)\n",
    "features = pd.concat([features.reset_index(drop=True), encoded_features.reset_index(drop=True)], axis=1)\n",
    "\n",
    "# Split the data into training and testing sets\n",
    "features_train, features_test, target_train, target_test = train_test_split(features, target, test_size=0.2, random_state=42)\n",
    "\n",
    "# Train a RandomForestClassifier\n",
    "model = RandomForestClassifier(random_state=12345, n_estimators=50)\n",
    "model.fit(features_train, target_train)\n",
    "\n",
    "# Make predictions\n",
    "prediction_test = model.predict(features_test)\n",
    "\n",
    "# Evaluate the model\n",
    "print(confusion_matrix(target_test, prediction_test))\n",
    "print(classification_report(target_test, prediction_test))"
   ]
  },
  {
   "cell_type": "markdown",
   "metadata": {},
   "source": [
    "* **Class Distribution**: The dataset is imbalanced with 7963 customers who did not exit (0) and 2037 customers who exited (1).  \n",
    "\n",
    "* **Model Performance**: The RandomForestClassifier achieved an overall accuracy of 86%.  \n",
    "\n",
    "* **Confusion Matrix**:  \n",
    "   True Negatives (correctly predicted non-exits): 1538  \n",
    "   False Positives (incorrectly predicted exits): 69  \n",
    "   False Negatives (incorrectly predicted non-exits): 203  \n",
    "   True Positives (correctly predicted exits): 190  \n",
    "   \n",
    "* **Classification Report**:  \n",
    "   For class 0 (non-exits): Precision = 0.88, Recall = 0.96, F1-score = 0.92  \n",
    "   For class 1 (exits): Precision = 0.73, Recall = 0.48, F1-score = 0.58  \n",
    "   Macro average F1-score = 0.75  \n",
    "   Weighted average F1-score = 0.85  "
   ]
  },
  {
   "cell_type": "markdown",
   "metadata": {},
   "source": [
    "--- "
   ]
  },
  {
   "cell_type": "markdown",
   "metadata": {},
   "source": [
    "## Improving Model Quality"
   ]
  },
  {
   "cell_type": "code",
   "execution_count": 31,
   "metadata": {},
   "outputs": [
    {
     "name": "stdout",
     "output_type": "stream",
     "text": [
      "Model: RandomForest\n",
      "[[1310  297]\n",
      " [  94  299]]\n",
      "              precision    recall  f1-score   support\n",
      "\n",
      "           0       0.93      0.82      0.87      1607\n",
      "           1       0.50      0.76      0.60       393\n",
      "\n",
      "    accuracy                           0.80      2000\n",
      "   macro avg       0.72      0.79      0.74      2000\n",
      "weighted avg       0.85      0.80      0.82      2000\n",
      "\n",
      "Model: GradientBoosting\n",
      "[[1293  314]\n",
      " [  82  311]]\n",
      "              precision    recall  f1-score   support\n",
      "\n",
      "           0       0.94      0.80      0.87      1607\n",
      "           1       0.50      0.79      0.61       393\n",
      "\n",
      "    accuracy                           0.80      2000\n",
      "   macro avg       0.72      0.80      0.74      2000\n",
      "weighted avg       0.85      0.80      0.82      2000\n",
      "\n"
     ]
    }
   ],
   "source": [
    "#Address class imbalance using undersampling\n",
    "majority_class = features_train[target_train == 0]\n",
    "minority_class = features_train[target_train == 1]\n",
    "\n",
    "# Downsample majority class\n",
    "majority_class_downsampled = resample(majority_class, \n",
    "                                      replace=False,    # sample without replacement\n",
    "                                      n_samples=len(minority_class), # to match minority class\n",
    "                                      random_state=42)  # reproducible results\n",
    "\n",
    "# Combine minority class with downsampled majority class\n",
    "features_train_balanced = pd.concat([majority_class_downsampled, minority_class])\n",
    "target_train_balanced = target_train.loc[features_train_balanced.index]\n",
    "\n",
    "# Define the models\n",
    "models = {\n",
    "    'RandomForest': RandomForestClassifier(random_state=12345),\n",
    "    'GradientBoosting': GradientBoostingClassifier(random_state=12345)\n",
    "}\n",
    "\n",
    "# Define the parameter grid for GridSearchCV\n",
    "param_grid = {\n",
    "    'RandomForest': {\n",
    "        'n_estimators': [50, 100, 200],\n",
    "        'max_depth': [None, 10, 20],\n",
    "        'class_weight': ['balanced', 'balanced_subsample']\n",
    "    },\n",
    "    'GradientBoosting': {\n",
    "        'n_estimators': [50, 100, 200],\n",
    "        'learning_rate': [0.01, 0.1, 0.2],\n",
    "        'max_depth': [3, 5, 7]\n",
    "    }\n",
    "}\n",
    "\n",
    "# Perform GridSearchCV for each model\n",
    "best_models = {}\n",
    "for model_name, model in models.items():\n",
    "    grid_search = GridSearchCV(model, param_grid[model_name], cv=5, scoring='f1')\n",
    "    grid_search.fit(features_train_balanced, target_train_balanced)\n",
    "    best_models[model_name] = grid_search.best_estimator_\n",
    "\n",
    "# Evaluate the best models on the test set\n",
    "for model_name, model in best_models.items():\n",
    "    predictions = model.predict(features_test)\n",
    "    print(f\"Model: {model_name}\")\n",
    "    print(confusion_matrix(target_test, predictions))\n",
    "    print(classification_report(target_test, predictions))"
   ]
  },
  {
   "cell_type": "markdown",
   "metadata": {},
   "source": [
    "**RandomForest Model:**  \n",
    "\n",
    "**Precision:** 0.50 for class 1 (minority class), indicating that 50% of the predicted positive cases are true positives.  \n",
    "**Recall:** 0.76 for class 1, meaning that 76% of the actual positive cases are correctly identified.  \n",
    "**F1-Score:** 0.60 for class 1, which is a balance between precision and recall.  \n",
    "**Accuracy:** 0.80, indicating that 80% of the total predictions are correct.  \n",
    "**Macro Avg F1-Score:** 0.74, which is the average F1-score for both classes.  \n",
    "**Weighted Avg F1-Score:** 0.82, which takes into account the support (number of true instances) for each class.  \n",
    "\n",
    "**GradientBoosting Model:**\n",
    "\n",
    "**Precision:** 0.50 for class 1, similar to the RandomForest model.  \n",
    "**Recall:** 0.79 for class 1, slightly higher than the RandomForest model.  \n",
    "**F1-Score:** 0.61 for class 1, slightly better than the RandomForest model.  \n",
    "**Accuracy:** 0.80, same as the RandomForest model.  \n",
    "Macro Avg F1-Score: 0.74, same as the RandomForest model.\n",
    "Weighted Avg F1-Score: 0.82, same as the RandomForest model."
   ]
  },
  {
   "cell_type": "markdown",
   "metadata": {},
   "source": [
    "Both models achieved an accuracy of 80%, with the GradientBoosting model showing a slightly better recall and F1-score for the minority class (class 1). This suggests that the GradientBoosting model is slightly better at identifying the minority class, which is crucial for addressing class imbalance."
   ]
  },
  {
   "cell_type": "markdown",
   "metadata": {},
   "source": [
    "## Final Test"
   ]
  },
  {
   "cell_type": "code",
   "execution_count": 38,
   "metadata": {},
   "outputs": [
    {
     "name": "stdout",
     "output_type": "stream",
     "text": [
      "Model: RandomForest\n",
      "Confusion Matrix:\n",
      "[[1310  297]\n",
      " [  94  299]]\n",
      "Classification Report:\n",
      "              precision    recall  f1-score   support\n",
      "\n",
      "           0       0.93      0.82      0.87      1607\n",
      "           1       0.50      0.76      0.60       393\n",
      "\n",
      "    accuracy                           0.80      2000\n",
      "   macro avg       0.72      0.79      0.74      2000\n",
      "weighted avg       0.85      0.80      0.82      2000\n",
      "\n",
      "AUC-ROC Score:\n",
      "0.8636848013857947\n",
      "F1 Score:\n",
      "0.6046511627906976\n",
      "\n",
      "\n",
      "Model: GradientBoosting\n",
      "Confusion Matrix:\n",
      "[[1293  314]\n",
      " [  82  311]]\n",
      "Classification Report:\n",
      "              precision    recall  f1-score   support\n",
      "\n",
      "           0       0.94      0.80      0.87      1607\n",
      "           1       0.50      0.79      0.61       393\n",
      "\n",
      "    accuracy                           0.80      2000\n",
      "   macro avg       0.72      0.80      0.74      2000\n",
      "weighted avg       0.85      0.80      0.82      2000\n",
      "\n",
      "AUC-ROC Score:\n",
      "0.8674588433871532\n",
      "F1 Score:\n",
      "0.6110019646365422\n",
      "\n",
      "\n"
     ]
    }
   ],
   "source": [
    "# Evaluate the best models on the test set\n",
    "for model_name, model in best_models.items():\n",
    "    predictions = model.predict(features_test)\n",
    "    probabilities = model.predict_proba(features_test)[:, 1]\n",
    "    \n",
    "    print(f\"Model: {model_name}\")\n",
    "    print(\"Confusion Matrix:\")\n",
    "    print(confusion_matrix(target_test, predictions))\n",
    "    print(\"Classification Report:\")\n",
    "    print(classification_report(target_test, predictions))\n",
    "    print(\"AUC-ROC Score:\")\n",
    "    auc_roc = roc_auc_score(target_test, probabilities)\n",
    "    print(auc_roc)\n",
    "    print(\"F1 Score:\")\n",
    "    f1 = f1_score(target_test, predictions)\n",
    "    print(f1)\n",
    "    print(\"\\n\")"
   ]
  },
  {
   "cell_type": "markdown",
   "metadata": {},
   "source": [
    "---"
   ]
  },
  {
   "cell_type": "markdown",
   "metadata": {},
   "source": [
    "**Conclusion**\n",
    "\n",
    "\n",
    "After rigorous performance evaluation, both RandomForest and GradientBoosting models have demonstrated commendable accuracy, holding steady at 80%. However, when we consider the performance measures crucial in handling class imbalance, the GradientBoosting model displays a slight edge with higher recall and F1-score for the minority class (class 1).  \n",
    "\n",
    "In terms of the confusion matrix, both models have shown a strong ability to predict the majority class (class 0), but the GradientBoosting model outperforms the RandomForest model in identifying the minority class.\n",
    "The AUC-ROC score, an important evaluation metric for assessing the quality of the models, is slightly higher in the GradientBoosting model, indicating superior model performance.  \n",
    "\n",
    "Both models have their strengths, but when balancing all key metrics, the GradientBoosting model shows an overall stronger performance, making it the slightly more effective choice in this context."
   ]
  }
 ],
 "metadata": {
  "ExecuteTimeLog": [
   {
    "duration": 466,
    "start_time": "2024-08-08T14:03:34.000Z"
   },
   {
    "duration": 42,
    "start_time": "2024-08-08T14:04:41.372Z"
   },
   {
    "duration": 24,
    "start_time": "2024-08-08T14:04:45.907Z"
   },
   {
    "duration": 25,
    "start_time": "2024-08-08T14:05:16.863Z"
   },
   {
    "duration": 18,
    "start_time": "2024-08-08T14:05:41.639Z"
   },
   {
    "duration": 900,
    "start_time": "2024-08-08T14:15:01.612Z"
   },
   {
    "duration": 437,
    "start_time": "2024-08-08T14:15:52.637Z"
   },
   {
    "duration": 1295,
    "start_time": "2024-08-08T14:32:14.717Z"
   },
   {
    "duration": 10,
    "start_time": "2024-08-08T14:33:20.512Z"
   },
   {
    "duration": 6,
    "start_time": "2024-08-08T14:33:49.592Z"
   },
   {
    "duration": 110,
    "start_time": "2024-08-08T14:33:55.567Z"
   },
   {
    "duration": 19,
    "start_time": "2024-08-08T14:34:18.176Z"
   },
   {
    "duration": 27,
    "start_time": "2024-08-08T14:34:54.653Z"
   },
   {
    "duration": 23,
    "start_time": "2024-08-08T14:35:30.970Z"
   },
   {
    "duration": 687,
    "start_time": "2024-08-08T14:35:43.544Z"
   },
   {
    "duration": 21,
    "start_time": "2024-08-08T14:35:49.356Z"
   },
   {
    "duration": 174,
    "start_time": "2024-08-08T14:36:08.274Z"
   },
   {
    "duration": 31,
    "start_time": "2024-08-08T14:36:29.352Z"
   },
   {
    "duration": 95,
    "start_time": "2024-08-08T14:41:04.352Z"
   },
   {
    "duration": 26,
    "start_time": "2024-08-08T14:47:00.992Z"
   },
   {
    "duration": 24,
    "start_time": "2024-08-08T14:47:01.832Z"
   },
   {
    "duration": 10,
    "start_time": "2024-08-08T14:47:07.732Z"
   },
   {
    "duration": 6,
    "start_time": "2024-08-08T14:47:51.932Z"
   },
   {
    "duration": 10,
    "start_time": "2024-08-08T14:47:59.983Z"
   },
   {
    "duration": 7,
    "start_time": "2024-08-08T14:50:23.913Z"
   },
   {
    "duration": 20,
    "start_time": "2024-08-08T14:50:31.172Z"
   },
   {
    "duration": 7,
    "start_time": "2024-08-08T15:00:56.881Z"
   },
   {
    "duration": 21,
    "start_time": "2024-08-08T15:01:01.046Z"
   },
   {
    "duration": 18,
    "start_time": "2024-08-08T15:01:11.112Z"
   },
   {
    "duration": 23,
    "start_time": "2024-08-08T15:01:56.642Z"
   },
   {
    "duration": 1275,
    "start_time": "2024-08-09T01:07:26.020Z"
   },
   {
    "duration": 40,
    "start_time": "2024-08-09T01:07:30.443Z"
   },
   {
    "duration": 31,
    "start_time": "2024-08-09T01:07:30.700Z"
   },
   {
    "duration": 10,
    "start_time": "2024-08-09T01:07:35.866Z"
   },
   {
    "duration": 6,
    "start_time": "2024-08-09T01:07:39.097Z"
   },
   {
    "duration": 7,
    "start_time": "2024-08-09T01:07:40.360Z"
   },
   {
    "duration": 7,
    "start_time": "2024-08-09T01:07:40.824Z"
   },
   {
    "duration": 21,
    "start_time": "2024-08-09T01:07:45.246Z"
   },
   {
    "duration": 5,
    "start_time": "2024-08-09T01:22:22.918Z"
   },
   {
    "duration": 7,
    "start_time": "2024-08-09T01:22:26.532Z"
   },
   {
    "duration": 1186,
    "start_time": "2024-08-09T12:23:37.871Z"
   },
   {
    "duration": 37,
    "start_time": "2024-08-09T12:23:41.788Z"
   },
   {
    "duration": 31,
    "start_time": "2024-08-09T12:23:44.006Z"
   },
   {
    "duration": 10,
    "start_time": "2024-08-09T12:23:46.930Z"
   },
   {
    "duration": 7,
    "start_time": "2024-08-09T12:23:49.267Z"
   },
   {
    "duration": 7,
    "start_time": "2024-08-09T12:23:49.646Z"
   },
   {
    "duration": 6,
    "start_time": "2024-08-09T12:23:52.367Z"
   },
   {
    "duration": 20,
    "start_time": "2024-08-09T12:23:52.548Z"
   },
   {
    "duration": 506,
    "start_time": "2024-08-09T12:27:01.030Z"
   },
   {
    "duration": 34,
    "start_time": "2024-08-09T12:27:19.086Z"
   },
   {
    "duration": 5,
    "start_time": "2024-08-09T12:27:27.966Z"
   },
   {
    "duration": 41,
    "start_time": "2024-08-09T12:27:30.866Z"
   },
   {
    "duration": 5,
    "start_time": "2024-08-09T12:46:14.588Z"
   },
   {
    "duration": 41,
    "start_time": "2024-08-09T12:46:21.088Z"
   },
   {
    "duration": 4,
    "start_time": "2024-08-09T13:19:51.508Z"
   },
   {
    "duration": 60,
    "start_time": "2024-08-09T13:20:19.670Z"
   },
   {
    "duration": 35,
    "start_time": "2024-08-09T13:28:18.933Z"
   },
   {
    "duration": 5,
    "start_time": "2024-08-09T13:28:25.750Z"
   },
   {
    "duration": 41,
    "start_time": "2024-08-09T13:28:28.288Z"
   },
   {
    "duration": 649,
    "start_time": "2024-08-09T13:29:07.499Z"
   },
   {
    "duration": 640,
    "start_time": "2024-08-09T13:49:14.546Z"
   },
   {
    "duration": 1146,
    "start_time": "2024-08-10T12:16:22.886Z"
   },
   {
    "duration": 38,
    "start_time": "2024-08-10T12:16:26.040Z"
   },
   {
    "duration": 32,
    "start_time": "2024-08-10T12:16:26.276Z"
   },
   {
    "duration": 10,
    "start_time": "2024-08-10T12:16:31.561Z"
   },
   {
    "duration": 318,
    "start_time": "2024-08-10T17:51:19.912Z"
   },
   {
    "duration": 1150,
    "start_time": "2024-08-10T17:51:42.083Z"
   },
   {
    "duration": 38,
    "start_time": "2024-08-10T17:51:45.117Z"
   },
   {
    "duration": 31,
    "start_time": "2024-08-10T17:51:45.987Z"
   },
   {
    "duration": 11,
    "start_time": "2024-08-10T17:51:53.844Z"
   },
   {
    "duration": 5,
    "start_time": "2024-08-10T17:51:54.622Z"
   },
   {
    "duration": 7,
    "start_time": "2024-08-10T17:51:57.302Z"
   },
   {
    "duration": 7,
    "start_time": "2024-08-10T17:51:57.568Z"
   },
   {
    "duration": 8,
    "start_time": "2024-08-10T17:52:01.001Z"
   },
   {
    "duration": 650,
    "start_time": "2024-08-10T17:52:03.792Z"
   },
   {
    "duration": 121,
    "start_time": "2024-08-10T18:09:37.442Z"
   },
   {
    "duration": 16311,
    "start_time": "2024-08-10T18:13:45.703Z"
   },
   {
    "duration": 31,
    "start_time": "2024-08-10T18:15:11.969Z"
   },
   {
    "duration": 8,
    "start_time": "2024-08-10T18:16:17.722Z"
   },
   {
    "duration": 29,
    "start_time": "2024-08-10T18:17:37.202Z"
   },
   {
    "duration": 36,
    "start_time": "2024-08-10T18:25:25.963Z"
   },
   {
    "duration": 29,
    "start_time": "2024-08-10T18:25:41.587Z"
   },
   {
    "duration": 6,
    "start_time": "2024-08-10T18:25:53.947Z"
   },
   {
    "duration": 25,
    "start_time": "2024-08-10T18:26:48.942Z"
   },
   {
    "duration": 89,
    "start_time": "2024-08-10T18:26:55.589Z"
   },
   {
    "duration": 8,
    "start_time": "2024-08-10T18:27:04.521Z"
   },
   {
    "duration": 5,
    "start_time": "2024-08-10T18:28:36.072Z"
   },
   {
    "duration": 25,
    "start_time": "2024-08-10T18:28:42.832Z"
   },
   {
    "duration": 11,
    "start_time": "2024-08-10T18:28:45.627Z"
   },
   {
    "duration": 6,
    "start_time": "2024-08-10T18:28:46.888Z"
   },
   {
    "duration": 6,
    "start_time": "2024-08-10T18:28:48.007Z"
   },
   {
    "duration": 6,
    "start_time": "2024-08-10T18:28:48.497Z"
   },
   {
    "duration": 8,
    "start_time": "2024-08-10T18:28:52.107Z"
   },
   {
    "duration": 644,
    "start_time": "2024-08-10T18:28:54.309Z"
   },
   {
    "duration": 15,
    "start_time": "2024-08-10T18:29:30.843Z"
   },
   {
    "duration": 195983,
    "start_time": "2024-08-10T18:29:38.573Z"
   },
   {
    "duration": 202,
    "start_time": "2024-08-10T19:35:59.478Z"
   },
   {
    "duration": 25,
    "start_time": "2024-08-10T19:36:14.517Z"
   },
   {
    "duration": 6,
    "start_time": "2024-08-10T19:36:29.961Z"
   },
   {
    "duration": 5,
    "start_time": "2024-08-10T19:36:34.576Z"
   },
   {
    "duration": 190,
    "start_time": "2024-08-10T19:36:38.877Z"
   },
   {
    "duration": 5,
    "start_time": "2024-08-10T19:38:06.417Z"
   },
   {
    "duration": 193,
    "start_time": "2024-08-10T19:38:30.844Z"
   },
   {
    "duration": 13,
    "start_time": "2024-08-10T23:34:03.213Z"
   }
  ],
  "kernelspec": {
   "display_name": "Python 3 (ipykernel)",
   "language": "python",
   "name": "python3"
  },
  "language_info": {
   "codemirror_mode": {
    "name": "ipython",
    "version": 3
   },
   "file_extension": ".py",
   "mimetype": "text/x-python",
   "name": "python",
   "nbconvert_exporter": "python",
   "pygments_lexer": "ipython3",
   "version": "3.12.3"
  },
  "toc": {
   "base_numbering": 1,
   "nav_menu": {},
   "number_sections": true,
   "sideBar": true,
   "skip_h1_title": true,
   "title_cell": "Table of Contents",
   "title_sidebar": "Contents",
   "toc_cell": false,
   "toc_position": {},
   "toc_section_display": true,
   "toc_window_display": false
  }
 },
 "nbformat": 4,
 "nbformat_minor": 2
}
